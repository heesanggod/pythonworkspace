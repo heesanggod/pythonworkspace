{
 "cells": [
  {
   "cell_type": "code",
   "execution_count": null,
   "metadata": {},
   "outputs": [],
   "source": [
    "# datetime 패키지\n",
    "# datetime 패키지는 날짜 및 시간을 관리하는 datetime 클래스, 날짜를 관리하는 date 클래스, 시간을 관리하는 time 클래스, 시간 구간을 관리하는 timedelta 클래스를 제공함"
   ]
  },
  {
   "cell_type": "code",
   "execution_count": 1,
   "metadata": {},
   "outputs": [],
   "source": [
    "import datetime as dt"
   ]
  },
  {
   "cell_type": "code",
   "execution_count": null,
   "metadata": {},
   "outputs": [],
   "source": [
    "# datetime.datetime 클래스\n",
    "# now() 메서드 : 현재 시간을 반환하는 메서드"
   ]
  },
  {
   "cell_type": "code",
   "execution_count": 2,
   "metadata": {},
   "outputs": [
    {
     "data": {
      "text/plain": [
       "datetime.datetime(2024, 2, 20, 14, 16, 56, 781815)"
      ]
     },
     "execution_count": 2,
     "metadata": {},
     "output_type": "execute_result"
    }
   ],
   "source": [
    "now = dt.datetime.now()\n",
    "now"
   ]
  },
  {
   "cell_type": "code",
   "execution_count": null,
   "metadata": {},
   "outputs": [],
   "source": [
    "# datetime 인스턴스는 year, month, day, hour, minute, second, microsecond 속성을 가지고 있음"
   ]
  },
  {
   "cell_type": "code",
   "execution_count": 3,
   "metadata": {},
   "outputs": [
    {
     "data": {
      "text/plain": [
       "(2024, 2, 20, 14, 16, 56, 781815)"
      ]
     },
     "execution_count": 3,
     "metadata": {},
     "output_type": "execute_result"
    }
   ],
   "source": [
    "now.year, now.month, now.day, now.hour, now.minute, now.second, now.microsecond"
   ]
  },
  {
   "cell_type": "code",
   "execution_count": null,
   "metadata": {},
   "outputs": [],
   "source": [
    "# datetime 인스턴스의 메서드 weekday()는 요일을 반환 (0: 월 ~ 6: 일)"
   ]
  },
  {
   "cell_type": "code",
   "execution_count": 4,
   "metadata": {},
   "outputs": [
    {
     "data": {
      "text/plain": [
       "1"
      ]
     },
     "execution_count": 4,
     "metadata": {},
     "output_type": "execute_result"
    }
   ],
   "source": [
    "now.weekday()"
   ]
  },
  {
   "cell_type": "code",
   "execution_count": null,
   "metadata": {},
   "outputs": [],
   "source": [
    "# datetime 인스턴스의 메서드 strftime('날짜 및 시간 포멧 문자열')은 인스턴스에 저장된 시간을 지정한 포멧의 문자열로 변환\n",
    "# %Y : 4자리의 연도\n",
    "# %m : 2자리의 월\n",
    "# %d : 2자리의 일\n",
    "# %H : 24시간으로 표현되는 시간\n",
    "# %I : 12시간으로 표현되는 시간\n",
    "# %p : 오전, 오후 (AM, PM)표현\n",
    "# %M : 2자리의 분\n",
    "# %S : 2자리의 초\n",
    "# %A : 영문자로된 요일"
   ]
  },
  {
   "cell_type": "code",
   "execution_count": 5,
   "metadata": {},
   "outputs": [
    {
     "data": {
      "text/plain": [
       "'PM 02:16 2024-02-20'"
      ]
     },
     "execution_count": 5,
     "metadata": {},
     "output_type": "execute_result"
    }
   ],
   "source": [
    "# PM 02:28 2024-02-20\n",
    "now.strftime('%p %I:%M %Y-%m-%d')"
   ]
  },
  {
   "cell_type": "code",
   "execution_count": null,
   "metadata": {},
   "outputs": [],
   "source": [
    "# datetime 클래스의 클래스 메서드 strptime('날짜문자열', '날짜 및 시간 포멧 문자열')은 문자열을 datetime 인스턴스로 변경"
   ]
  },
  {
   "cell_type": "code",
   "execution_count": 6,
   "metadata": {},
   "outputs": [
    {
     "data": {
      "text/plain": [
       "datetime.datetime(2023, 11, 20, 0, 0)"
      ]
     },
     "execution_count": 6,
     "metadata": {},
     "output_type": "execute_result"
    }
   ],
   "source": [
    "dt.datetime.strptime('2023-11-20', '%Y-%m-%d')"
   ]
  },
  {
   "cell_type": "code",
   "execution_count": null,
   "metadata": {},
   "outputs": [],
   "source": [
    "# 자신의 생일을 나타내는 datetime 클래스 객체를 만들고 오늘 자신의 만 나이를 구하라 (힌트: YYYYMMDD 형식의 숫자를 만들고 빼기 연산을 한다.)"
   ]
  },
  {
   "cell_type": "code",
   "execution_count": 16,
   "metadata": {},
   "outputs": [
    {
     "data": {
      "text/plain": [
       "27"
      ]
     },
     "execution_count": 16,
     "metadata": {},
     "output_type": "execute_result"
    }
   ],
   "source": [
    "my_birth = dt.datetime.strptime('1996-08-28', '%Y-%m-%d')\n",
    "now = dt.datetime.now()\n",
    "\n",
    "age = now.year - my_birth.year\n",
    "if now.month < my_birth.month:\n",
    "    age -= 1\n",
    "elif now.month == my_birth.month and now.day < my_birth.day:\n",
    "    age -= 1\n",
    "\n",
    "age"
   ]
  },
  {
   "cell_type": "code",
   "execution_count": null,
   "metadata": {},
   "outputs": [],
   "source": [
    "# dateutil 패키지\n",
    "# dateutil 패키지의 parser 하위 패키지의 parse 함수로 사용하여 문자열 형식의 데이터를 자동으로 datetime 클래스의 인스턴스로 변경해줌"
   ]
  },
  {
   "cell_type": "code",
   "execution_count": 18,
   "metadata": {},
   "outputs": [],
   "source": [
    "from dateutil.parser import parse"
   ]
  },
  {
   "cell_type": "code",
   "execution_count": 21,
   "metadata": {},
   "outputs": [
    {
     "data": {
      "text/plain": [
       "datetime.datetime(2024, 2, 20, 0, 0)"
      ]
     },
     "execution_count": 21,
     "metadata": {},
     "output_type": "execute_result"
    }
   ],
   "source": [
    "parse('2024-02-20')"
   ]
  }
 ],
 "metadata": {
  "kernelspec": {
   "display_name": "Python 3",
   "language": "python",
   "name": "python3"
  },
  "language_info": {
   "codemirror_mode": {
    "name": "ipython",
    "version": 3
   },
   "file_extension": ".py",
   "mimetype": "text/x-python",
   "name": "python",
   "nbconvert_exporter": "python",
   "pygments_lexer": "ipython3",
   "version": "3.12.2"
  }
 },
 "nbformat": 4,
 "nbformat_minor": 2
}

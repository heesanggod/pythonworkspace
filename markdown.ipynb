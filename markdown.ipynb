{
 "cells": [
  {
   "cell_type": "markdown",
   "metadata": {},
   "source": [
    "Markdown\n",
    "=====\n",
    "텍스트에 서식을 지정할 수 있는 경량 텍스트 언어  \n",
    "HTML과 같은 다른 마크업 언어에 비해 사용이 편함"
   ]
  },
  {
   "cell_type": "code",
   "execution_count": null,
   "metadata": {},
   "outputs": [],
   "source": [
    "# 제목 표시\n",
    "# h1 ~ h6 제목의 크기와 중요도\n",
    "# h1 : 가장 중요한 제목\n",
    "# h6 : 단락의 제목\n",
    "\n",
    "#? # : h1 제목\n",
    "#? ## : h2 제목\n",
    "#? ### : h3 제목\n",
    "#? #### : h4 제목\n",
    "#? ##### : h5 제목\n",
    "#? ###### : h6 제목\n",
    "\n",
    "#? 내용\n",
    "#? =====\n",
    "#? h1 제목\n",
    "\n",
    "#? 내용\n",
    "#? -----\n",
    "#? : h2 제목"
   ]
  }
 ],
 "metadata": {
  "language_info": {
   "name": "python"
  }
 },
 "nbformat": 4,
 "nbformat_minor": 2
}
